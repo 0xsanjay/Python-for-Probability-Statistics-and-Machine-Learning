{
 "cells": [
  {
   "cell_type": "code",
   "execution_count": 1,
   "metadata": {},
   "outputs": [
    {
     "data": {
      "image/png": "../../../python_for_probability_statistics_and_machine_learning.jpg",
      "text/plain": [
       "<IPython.core.display.Image object>"
      ]
     },
     "execution_count": 1,
     "metadata": {},
     "output_type": "execute_result"
    }
   ],
   "source": [
    "from IPython.display import Image \n",
    "Image('../../../python_for_probability_statistics_and_machine_learning.jpg')"
   ]
  },
  {
   "cell_type": "markdown",
   "metadata": {},
   "source": [
    "<!-- add feature importances from RandomForestClassifier -->\n",
    "<!-- ensemble methods - references below -->\n",
    "<!-- D:\\Volume2_Indexed\\Encyclopedia_of_machine_learning_Sammut.pdf -->\n",
    "<!-- D:\\Volume2_Indexed\\Data_Mining_With_Decision_Trees_Rokach.pdf -->\n",
    "<!-- D:\\Volume2_Indexed\\Data_Mining_Kantardzic.pdf -->\n",
    "<!-- D:\\Volume2_Indexed\\Machine_Learning_with_R_Cookbook_Yu-Wei.pdf -->\n",
    "<!-- D:\\Volume2_Indexed\\Data_Mining_Witten.pdf -->\n",
    "<!-- D:\\Volume2_Indexed\\Elements_of_Statistical_Learning_Hastie.pdf -->\n",
    "<!-- D:\\Volume2_Indexed\\Independent_Component_Analysis_Hyvarinen.pdf -->\n",
    "<!-- D:\\Volume2_Indexed\\Data_Mining_and_Statisticas_Tuffery.pdf -->\n",
    "<!-- D:\\Volume2_Indexed\\Machine_Learning_Probabilistic_Perspective_Murphy.pdf\n",
    "-->\n",
    "<!-- D:\\Volume2_Indexed\\Machine_Learning_Flach.pdf -->\n",
    "\n",
    "A decision tree is the easiest classifer to understand, interpret, and explain.\n",
    "A decision tree is constructed by recursively splitting the data set into a\n",
    "sequence of subsets based on if-then questions.  The training set consists of\n",
    "pairs $(\\mathbf{x},y)$ where $\\mathbf{x}\\in \\mathbb{R}^d$ where $d$ is the\n",
    "number of features available and where $y$ is the corresponding label. The\n",
    "learning method splits the training set into groups based on $\\mathbf{x}$ while\n",
    "attempting to keep the assignments in each group as uniform as possible. In\n",
    "order to\n",
    "do this, the learning method must pick a feature and an associated threshold for\n",
    "that feature upon which to\n",
    "divide the data.  This is tricky to explain in words, but easy to see with\n",
    "an example. First, let's set up the Scikit-learn classifer,"
   ]
  },
  {
   "cell_type": "code",
   "execution_count": 1,
   "metadata": {
    "attributes": {
     "classes": [],
     "id": "",
     "n": "1"
    },
    "collapsed": true
   },
   "outputs": [],
   "source": [
    "%matplotlib inline\n",
    "\n",
    "from matplotlib.pylab import subplots\n",
    "from numpy import ma\n",
    "import numpy as np\n",
    "np.random.seed(12345678)"
   ]
  },
  {
   "cell_type": "code",
   "execution_count": 2,
   "metadata": {
    "attributes": {
     "classes": [],
     "id": "",
     "n": "2"
    },
    "collapsed": true
   },
   "outputs": [],
   "source": [
    "from sklearn import tree\n",
    "clf = tree.DecisionTreeClassifier()"
   ]
  },
  {
   "cell_type": "markdown",
   "metadata": {},
   "source": [
    "Let's also create some example data,"
   ]
  },
  {
   "cell_type": "code",
   "execution_count": 3,
   "metadata": {
    "attributes": {
     "classes": [],
     "id": "",
     "n": "3"
    }
   },
   "outputs": [
    {
     "name": "stdout",
     "output_type": "stream",
     "text": [
      "[[0 0 1 1]\n",
      " [0 0 1 1]\n",
      " [0 0 1 1]\n",
      " [0 0 1 1]]\n"
     ]
    }
   ],
   "source": [
    "import numpy as np\n",
    "M=np.fromfunction(lambda i,j:j>=2,(4,4)).astype(int)\n",
    "print(M)"
   ]
  },
  {
   "cell_type": "markdown",
   "metadata": {},
   "source": [
    "**Programming Tip.**\n",
    "\n",
    "The `fromfunction` creates Numpy arrays using the indicies as inputs\n",
    "to a function whose value is the corresponding array entry.\n",
    "\n",
    "\n",
    "\n",
    "We want to classify the elements of the matrix based on their\n",
    "respective positions in the matrix. By just looking at the matrix, the\n",
    "classification is pretty simple --- classify as `0` for any positions in the\n",
    "first two columns of the matrix, and classify `1` otherwise.  Let's walk\n",
    "through this formally and see if this solution emerges from the decision\n",
    "tree.  The values of the array are the labels for the training set and the\n",
    "indicies of those values are the elements of $\\mathbf{x}$. Specifically, the\n",
    "training set has $\\mathcal{X} = \\left\\{(i,j)\\right\\}$ and\n",
    "$\\mathcal{Y}=\\left\\{0,1\\right\\}$ Now, let's extract those elements and construct\n",
    "the training set."
   ]
  },
  {
   "cell_type": "code",
   "execution_count": 4,
   "metadata": {
    "attributes": {
     "classes": [],
     "id": "",
     "n": "4"
    }
   },
   "outputs": [
    {
     "name": "stdout",
     "output_type": "stream",
     "text": [
      "[[0 0]\n",
      " [0 1]\n",
      " [1 0]\n",
      " [1 1]\n",
      " [2 0]\n",
      " [2 1]\n",
      " [3 0]\n",
      " [3 1]]\n",
      "[[0]\n",
      " [0]\n",
      " [0]\n",
      " [0]\n",
      " [0]\n",
      " [0]\n",
      " [0]\n",
      " [0]]\n"
     ]
    }
   ],
   "source": [
    "i,j = np.where(M==0) \n",
    "x=np.vstack([i,j]).T # build nsamp by nfeatures\n",
    "y = j.reshape(-1,1)*0 # 0 elements\n",
    "print(x)\n",
    "print(y)"
   ]
  },
  {
   "cell_type": "markdown",
   "metadata": {},
   "source": [
    "Thus, the elements of `x` are the two-dimensional indicies of the\n",
    "values of `y`. For example, `M[x[0,0],x[0,1]]=y[0,0]`. Likewise,\n",
    "to complete the training set, we just need to stack the rest of the data to\n",
    "cover\n",
    "all the cases,"
   ]
  },
  {
   "cell_type": "code",
   "execution_count": 5,
   "metadata": {
    "attributes": {
     "classes": [],
     "id": "",
     "n": "5"
    },
    "collapsed": true
   },
   "outputs": [],
   "source": [
    "i,j = np.where(M==1)  \n",
    "x=np.vstack([np.vstack([i,j]).T,x ]) # build nsamp x nfeatures\n",
    "y=np.vstack([j.reshape(-1,1)*0+1,y]) # 1 elements"
   ]
  },
  {
   "cell_type": "markdown",
   "metadata": {},
   "source": [
    "With all that established, all we have to do is train the classifer,"
   ]
  },
  {
   "cell_type": "code",
   "execution_count": 6,
   "metadata": {
    "attributes": {
     "classes": [],
     "id": "",
     "n": "6"
    }
   },
   "outputs": [
    {
     "data": {
      "text/plain": [
       "DecisionTreeClassifier(class_weight=None, criterion='gini', max_depth=None,\n",
       "            max_features=None, max_leaf_nodes=None,\n",
       "            min_impurity_decrease=0.0, min_impurity_split=None,\n",
       "            min_samples_leaf=1, min_samples_split=2,\n",
       "            min_weight_fraction_leaf=0.0, presort=False, random_state=None,\n",
       "            splitter='best')"
      ]
     },
     "execution_count": 6,
     "metadata": {},
     "output_type": "execute_result"
    }
   ],
   "source": [
    "clf.fit(x,y)"
   ]
  },
  {
   "cell_type": "markdown",
   "metadata": {},
   "source": [
    "To evaluate how the classifer performed, we can report the score,"
   ]
  },
  {
   "cell_type": "code",
   "execution_count": 7,
   "metadata": {
    "attributes": {
     "classes": [],
     "id": "",
     "n": "7"
    }
   },
   "outputs": [
    {
     "data": {
      "text/plain": [
       "1.0"
      ]
     },
     "execution_count": 7,
     "metadata": {},
     "output_type": "execute_result"
    }
   ],
   "source": [
    "clf.score(x,y)"
   ]
  },
  {
   "cell_type": "markdown",
   "metadata": {},
   "source": [
    "For this classifer, the *score* is the accuracy, which is\n",
    "defined as the ratio of the sum of the true-positive ($TP$) and\n",
    "true-negatives ($TN$) divided by the sum of all the terms, including\n",
    "the false terms,\n",
    "\n",
    "$$\n",
    "\\texttt{accuracy}=\\frac{TP+TN}{TP+TN+FN+FP}\n",
    "$$\n",
    "\n",
    "In this case, the classifier gets every point correctly, so\n",
    "$FN=FP=0$. On a related note, two other common names from information retrieval\n",
    "theory are  *recall* (a.k.a. sensitivity) and *precision* (a.k.a. positive\n",
    "predictive value, $TP/(TP+FP)$).  We can visualize this tree in\n",
    "[Figure](#fig:example_tree_001). The Gini coefficients (a.k.a. categorical\n",
    "variance)\n",
    "in the figure are a measure of the purity of each so-determined class. This\n",
    "coefficient is defined as,\n",
    "\n",
    "<!-- dom:FIGURE: [fig-machine_learning/example_tree_001.png, width=500 frac=0.5]\n",
    "Example decision tree. The `Gini` coefficient in each branch measures the purity\n",
    "of the partition in each node.  The `samples` item in the box shows the number\n",
    "of items in the corresponding node in the decision tree. <div\n",
    "id=\"fig:example_tree_001\"></div> -->\n",
    "<!-- begin figure -->\n",
    "<div id=\"fig:example_tree_001\"></div>\n",
    "\n",
    "<p>Example decision tree. The <code>Gini</code> coefficient in each branch\n",
    "measures the purity of the partition in each node.  The <code>samples</code>\n",
    "item in the box shows the number of items in the corresponding node in the\n",
    "decision tree.</p>\n",
    "<img src=\"fig-machine_learning/example_tree_001.png\" width=500>\n",
    "\n",
    "<!-- end figure -->\n",
    "\n",
    "$$\n",
    "\\texttt{Gini}_m = \\sum_k p_{m,k}(1-p_{m,k})\n",
    "$$\n",
    "\n",
    "where\n",
    "\n",
    "$$\n",
    "p_{m,k} = \\frac{1}{N_m} \\sum_{x_i\\in R_m} I(y_i=k)\n",
    "$$\n",
    "\n",
    "which is the proportion of observations labeled $k$ in the $m^{th}$\n",
    "node and $I(\\cdot)$ is the usual indicator function. Note that the maximum value\n",
    "of\n",
    "the Gini coefficient is $\\max{\\texttt{Gini}_{m}}=1-1/m$. For our simple\n",
    "example, half of the sixteen samples are in category `0` and the other half are\n",
    "in the `1` category.  Using the notation above, the top box corresponds to the\n",
    "$0^{th}$ node, so $p_{0,0} =1/2 = p_{0,1}$. Then, $\\texttt{Gini}_0=0.5$. The\n",
    "next layer of nodes in [Figure](#fig:example_tree_001) is determined by\n",
    "whether or not the second dimension of the $\\mathbf{x}$ data is greater than\n",
    "`1.5`. The Gini coefficients for each of these child nodes is zero because\n",
    "after the prior split, each subsequent category is pure. The `value` list in\n",
    "each of the nodes shows the distribution of elements in each category at each\n",
    "node.\n",
    "\n",
    "To make this example more interesting, we can contaminate the data slightly,"
   ]
  },
  {
   "cell_type": "code",
   "execution_count": 8,
   "metadata": {
    "attributes": {
     "classes": [],
     "id": "",
     "n": "8"
    }
   },
   "outputs": [
    {
     "name": "stdout",
     "output_type": "stream",
     "text": [
      "[[0 0 1 1]\n",
      " [1 0 1 1]\n",
      " [0 0 1 1]\n",
      " [0 0 1 1]]\n"
     ]
    }
   ],
   "source": [
    "M[1,0]=1 # put in different class\n",
    "print(M) # now contaminated"
   ]
  },
  {
   "cell_type": "markdown",
   "metadata": {},
   "source": [
    "Now we have a `1` entry in the previously\n",
    "pure first column's second  row."
   ]
  },
  {
   "cell_type": "code",
   "execution_count": 9,
   "metadata": {
    "attributes": {
     "classes": [],
     "id": "",
     "n": "9"
    }
   },
   "outputs": [
    {
     "data": {
      "text/plain": [
       "DecisionTreeClassifier(class_weight=None, criterion='gini', max_depth=None,\n",
       "            max_features=None, max_leaf_nodes=None,\n",
       "            min_impurity_decrease=0.0, min_impurity_split=None,\n",
       "            min_samples_leaf=1, min_samples_split=2,\n",
       "            min_weight_fraction_leaf=0.0, presort=False, random_state=None,\n",
       "            splitter='best')"
      ]
     },
     "execution_count": 9,
     "metadata": {},
     "output_type": "execute_result"
    }
   ],
   "source": [
    "i,j = np.where(M==0)\n",
    "x=np.vstack([i,j]).T\n",
    "y = j.reshape(-1,1)*0\n",
    "i,j = np.where(M==1)\n",
    "x=np.vstack([np.vstack([i,j]).T,x])\n",
    "y = np.vstack([j.reshape(-1,1)*0+1,y])\n",
    "clf.fit(x,y)"
   ]
  },
  {
   "cell_type": "markdown",
   "metadata": {},
   "source": [
    "The result is shown\n",
    "in [Figure](#fig:example_tree_002). Note the tree has grown\n",
    "significantly due to this one change! The $0^{th}$ node has the\n",
    "following parameters, $p_{0,0} =7/16$ and $p_{0,1}=9/16$. This makes\n",
    "the Gini coefficient for the $0^{th}$ node equal to\n",
    "$\\frac{7}{16}\\left(1-\\frac{7}{16}\\right)+\\frac{9}{16}(1-\\frac{9}{16})\n",
    "= 0.492$.  As before, the root node splits on $X[1] \\leq 1.5$. Let's\n",
    "see if we can reconstruct the succeeding layer of nodes manually, as\n",
    "in the following,"
   ]
  },
  {
   "cell_type": "code",
   "execution_count": 10,
   "metadata": {
    "attributes": {
     "classes": [],
     "id": "",
     "n": "10"
    }
   },
   "outputs": [
    {
     "data": {
      "text/plain": [
       "array([[1],\n",
       "       [1],\n",
       "       [1],\n",
       "       [1],\n",
       "       [1],\n",
       "       [1],\n",
       "       [1],\n",
       "       [1]])"
      ]
     },
     "execution_count": 10,
     "metadata": {},
     "output_type": "execute_result"
    }
   ],
   "source": [
    "y[x[:,1]>1.5] # first node on the right"
   ]
  },
  {
   "cell_type": "markdown",
   "metadata": {},
   "source": [
    "This obviously has a zero Gini coefficient. Likewise, the node on the\n",
    "left contains the following,"
   ]
  },
  {
   "cell_type": "code",
   "execution_count": 11,
   "metadata": {
    "attributes": {
     "classes": [],
     "id": "",
     "n": "11"
    }
   },
   "outputs": [
    {
     "data": {
      "text/plain": [
       "array([[1],\n",
       "       [0],\n",
       "       [0],\n",
       "       [0],\n",
       "       [0],\n",
       "       [0],\n",
       "       [0],\n",
       "       [0]])"
      ]
     },
     "execution_count": 11,
     "metadata": {},
     "output_type": "execute_result"
    }
   ],
   "source": [
    "y[x[:,1]<=1.5] # first node on the left"
   ]
  },
  {
   "cell_type": "markdown",
   "metadata": {},
   "source": [
    "The Gini coefficient in this case is computed as\n",
    "`(1/8)*(1-1/8)+(7/8)*(1-7/8)=0.21875`. This node splits based on `X[1]<0.5`.\n",
    "The child node to the right derives from the following equivalent logic,"
   ]
  },
  {
   "cell_type": "code",
   "execution_count": 12,
   "metadata": {
    "attributes": {
     "classes": [],
     "id": "",
     "n": "12"
    }
   },
   "outputs": [
    {
     "data": {
      "text/plain": [
       "array([False, False, False, False, False, False, False, False, False,\n",
       "       False,  True,  True, False,  True, False,  True], dtype=bool)"
      ]
     },
     "execution_count": 12,
     "metadata": {},
     "output_type": "execute_result"
    }
   ],
   "source": [
    "np.logical_and(x[:,1]<=1.5,x[:,1]>0.5)"
   ]
  },
  {
   "cell_type": "markdown",
   "metadata": {},
   "source": [
    "with corresponding classes,"
   ]
  },
  {
   "cell_type": "code",
   "execution_count": 13,
   "metadata": {
    "attributes": {
     "classes": [],
     "id": "",
     "n": "13"
    }
   },
   "outputs": [
    {
     "data": {
      "text/plain": [
       "array([[0],\n",
       "       [0],\n",
       "       [0],\n",
       "       [0]])"
      ]
     },
     "execution_count": 13,
     "metadata": {},
     "output_type": "execute_result"
    }
   ],
   "source": [
    "y[np.logical_and(x[:,1]<=1.5,x[:,1]>0.5)]"
   ]
  },
  {
   "cell_type": "markdown",
   "metadata": {},
   "source": [
    "**Programming Tip.**\n",
    "\n",
    "The  `logical_and` in Numpy provides element-wise logical conjuction. It is not\n",
    "possible to accomplish this with something like `0.5< x[:,1] <=1.5` because\n",
    "of the way Python parses this syntax.\n",
    "\n",
    "\n",
    "\n",
    "<!-- dom:FIGURE: [fig-machine_learning/example_tree_002.png, width=500\n",
    "frac=0.65] Decision tree for contaminated data. Note that just one change in the\n",
    "training data caused the tree to grow five times as large as before! <div\n",
    "id=\"fig:example_tree_002\"></div> -->\n",
    "<!-- begin figure -->\n",
    "<div id=\"fig:example_tree_002\"></div>\n",
    "\n",
    "<p>Decision tree for contaminated data. Note that just one change in the\n",
    "training data caused the tree to grow five times as large as before!</p>\n",
    "<img src=\"fig-machine_learning/example_tree_002.png\" width=500>\n",
    "\n",
    "<!-- end figure -->\n",
    "\n",
    "\n",
    "Notice that for this example as well as for the previous one, the decision tree\n",
    "was exactly able memorize (overfit) the data with perfect accuracy. From our\n",
    "discussion of machine learning theory, this is an indication potential problems\n",
    "in generalization.\n",
    "\n",
    "\n",
    "The key step in building the decision tree is to come up with the\n",
    "initial split. There are the number of algorithms that can build\n",
    "decision trees based on different criteria, but the general idea is to\n",
    "control the information *entropy* as the tree is developed.  In\n",
    "practical terms, this means that the algorithms attempt to build trees\n",
    "that are not excessively deep. It is well-established that this is a\n",
    "very hard problem to solve completely and there are many approaches to\n",
    "it.  This is because the algorithms must make global decisions at each\n",
    "node of the tree using the local data available up to that point."
   ]
  },
  {
   "cell_type": "code",
   "execution_count": 14,
   "metadata": {
    "attributes": {
     "classes": [],
     "id": "",
     "n": "14"
    }
   },
   "outputs": [
    {
     "data": {
      "image/png": "[encoded data removed]",
      "text/plain": [
       "<matplotlib.figure.Figure at 0x7f4d68127be0>"
      ]
     },
     "metadata": {},
     "output_type": "display_data"
    }
   ],
   "source": [
    "_=clf.fit(x,y)\n",
    "fig,axs=subplots(2,2,sharex=True,sharey=True)\n",
    "ax=axs[0,0]\n",
    "ax.set_aspect(1)\n",
    "_=ax.axis((-1,4,-1,4))\n",
    "ax.invert_yaxis()\n",
    "\n",
    "# same background all on axes\n",
    "for ax in axs.flat:\n",
    "    _=ax.plot(ma.masked_array(x[:,1],y==1),ma.masked_array(x[:,0],y==1),'ow',mec='k')\n",
    "    _=ax.plot(ma.masked_array(x[:,1],y==0),ma.masked_array(x[:,0],y==0),'o',color='gray')\n",
    "\n",
    "lines={'h':[],'v':[]}\n",
    "nc=0\n",
    "for i,j,ax in zip(clf.tree_.feature,clf.tree_.threshold,axs.flat):\n",
    "    _=ax.set_title('node %d'%(nc))\n",
    "    nc+=1\n",
    "    if i==0:   _=lines['h'].append(j)\n",
    "    elif i==1: _=lines['v'].append(j)\n",
    "    for l in lines['v']: _=ax.vlines(l,-1,4,lw=3)\n",
    "    for l in lines['h']: _=ax.hlines(l,-1,4,lw=3)\n"
   ]
  },
  {
   "cell_type": "markdown",
   "metadata": {},
   "source": [
    "<!-- dom:FIGURE: [fig-machine_learning/example_tree_003.png, width=500\n",
    "frac=0.85]  The decision tree divides the training set into regions by splitting\n",
    "successively along each dimension until each region is as pure as possible. <div\n",
    "id=\"fig:example_tree_003\"></div> -->\n",
    "<!-- begin figure -->\n",
    "<div id=\"fig:example_tree_003\"></div>\n",
    "\n",
    "<p>The decision tree divides the training set into regions by splitting\n",
    "successively along each dimension until each region is as pure as possible.</p>\n",
    "<img src=\"fig-machine_learning/example_tree_003.png\" width=500>\n",
    "\n",
    "<!-- end figure -->\n",
    "\n",
    "\n",
    "For this example, the decision tree partitions the $\\mathcal{X}$ space into\n",
    "different regions corresponding to different $\\mathcal{Y}$ labels as shown in\n",
    "[Figure](#fig:example_tree_003). The root node at the top of\n",
    "[Figure](#fig:example_tree_002) splits the input data based on $X[1] \\leq 1.5$.\n",
    "This\n",
    "corresponds to the top left panel in [Figure](#fig:example_tree_003) (i.e.,\n",
    "`node 0`) where the vertical line divides the training data shown into two\n",
    "regions, corresponding to the two subsequent child nodes. The next split\n",
    "happens with $X[1] \\leq 0.5$ as shown in the next panel of\n",
    "[Figure](#fig:example_tree_003) titled `node 1`. This continues until the last\n",
    "panel\n",
    "on the lower right, where the contaminated element we injected has been\n",
    "isolated into its own sub-region. Thus, the last panel is a representation of\n",
    "[Figure](#fig:example_tree_002), where the horizontal/vertical lines\n",
    "correspond to successive splits in the decision tree."
   ]
  },
  {
   "cell_type": "code",
   "execution_count": 15,
   "metadata": {
    "attributes": {
     "classes": [],
     "id": "",
     "n": "15"
    }
   },
   "outputs": [
    {
     "data": {
      "image/png": "[encoded data removed]",
      "text/plain": [
       "<matplotlib.figure.Figure at 0x7f4d3309de80>"
      ]
     },
     "metadata": {},
     "output_type": "display_data"
    }
   ],
   "source": [
    "i,j = np.indices((5,5))\n",
    "x=np.vstack([i.flatten(),j.flatten()]).T\n",
    "y=(x[:,0]>=x[:,1]).astype(int).reshape((-1,1))\n",
    "_=clf.fit(x,y)\n",
    "fig,ax=subplots()\n",
    "_=ax.axis((-1,5,-1,5))\n",
    "ax.set_aspect(1)\n",
    "ax.invert_yaxis()\n",
    "\n",
    "_=ax.plot(ma.masked_array(x[:,1],y==1),ma.masked_array(x[:,0],y==1),'ow',mec='k',ms=15)\n",
    "_=ax.plot(ma.masked_array(x[:,1],y==0),ma.masked_array(x[:,0],y==0),'o',color='gray',ms=15)\n",
    "\n",
    "for i,j in zip(clf.tree_.feature,clf.tree_.threshold):\n",
    "    if i==1:\n",
    "        _=ax.hlines(j,-1,6,lw=3.)\n",
    "    else:\n",
    "        _=ax.vlines(j,-1,6,lw=3.)\n"
   ]
  },
  {
   "cell_type": "markdown",
   "metadata": {},
   "source": [
    "<!-- dom:FIGURE: [fig-machine_learning/example_tree_004.png, width=500\n",
    "frac=0.75]  The decision tree fitted to this triangular matrix is very complex,\n",
    "as shown by the number of horizontal and vertical partitions. Thus, even though\n",
    "the pattern in the training data is visually clear, the decision tree cannot\n",
    "automatically uncover it. <div id=\"fig:example_tree_004\"></div> -->\n",
    "<!-- begin figure -->\n",
    "<div id=\"fig:example_tree_004\"></div>\n",
    "\n",
    "<p>The decision tree fitted to this triangular matrix is very complex, as shown\n",
    "by the number of horizontal and vertical partitions. Thus, even though the\n",
    "pattern in the training data is visually clear, the decision tree cannot\n",
    "automatically uncover it.</p>\n",
    "<img src=\"fig-machine_learning/example_tree_004.png\" width=500>\n",
    "\n",
    "<!-- end figure -->\n",
    "\n",
    "\n",
    "[Figure](#fig:example_tree_004) shows another example, but now using a simple\n",
    "triangular matrix.  As shown by the number of vertical and horizontal\n",
    "partitioning lines, the decision tree that corresponds to this figure is tall\n",
    "and complex. Notice that if we apply a simple rotational transform to the\n",
    "training data, we can obtain [Figure](#fig:example_tree_005), which requires a\n",
    "trivial decision tree to fit. Thus, there may be transformations of the\n",
    "training data that simplify the decision tree, but these are very difficult to\n",
    "derive in general. Nonetheless, this highlights a key weakness of decision\n",
    "trees wherein they may be easy to understand, to train, and to deploy, but may\n",
    "be completely blind to such time-saving and complexity-saving transformations.\n",
    "Indeed, in higher dimensions, it may be impossible to even visualize the\n",
    "potential of such latent transformations.  Thus, the advantages of decision\n",
    "trees can be easily outmatched by other methods that we will study later that\n",
    "*do* have the ability to uncover useful transformations, but which will\n",
    "necessarily be harder to train.  Another disadvantage is that because of how\n",
    "decision trees are built, even a single misplaced data point can cause the tree\n",
    "to grow very differently. This is a symptom of high variance.\n",
    "\n",
    "In all of our examples, the decision tree was able to memorize the training\n",
    "data exactly, as we discussed earlier, this is a sign of potential\n",
    "generalization errors.  There are pruning algorithms that strategically remove\n",
    "some of the deepest nodes. but these are not yet fully implemented in\n",
    "Scikit-learn, as of this writing. Alternatively, restricting the maximum depth\n",
    "of the decision tree can have a similar effect. The `DecisionTreeClassifier`\n",
    "and `DecisionTreeRegressor` in Scikit-learn both have keyword arguments that\n",
    "specify maximum depth.\n",
    "\n",
    "## Random Forests\n",
    "\n",
    "It is possible to combine a set of decision trees into a larger\n",
    "composite tree that has better performance than its individual\n",
    "components by using ensemble learning. This is implemented in\n",
    "Scikit-learn as `RandomForestClassifier`.  The composite tree helps\n",
    "mitigate the primary weakness of decision trees --- high variance.\n",
    "Random forest classifiers help by averaging out the predictions of\n",
    "many constituent trees to minimize this variance by randomly selecting\n",
    "subsets of the training set to train the  embedded trees.   On the\n",
    "other hand, this randomization can increase bias because there may be\n",
    "a subset of the training set that yields an excellent decision tree,\n",
    "but the averaging effect over randomized training samples washes this\n",
    "out in the same averaging that reduces the variance. This is a key\n",
    "trade-off.  The following code implements a simple random forest\n",
    "classifer from our last example."
   ]
  },
  {
   "cell_type": "code",
   "execution_count": 16,
   "metadata": {
    "attributes": {
     "classes": [],
     "id": "",
     "n": "16"
    }
   },
   "outputs": [
    {
     "data": {
      "image/png": "[encoded data removed]",
      "text/plain": [
       "<matplotlib.figure.Figure at 0x7f4d330352e8>"
      ]
     },
     "metadata": {},
     "output_type": "display_data"
    }
   ],
   "source": [
    "from numpy import sin, cos, pi\n",
    "rotation_matrix=np.matrix([[cos(pi/4),-sin(pi/4)],\n",
    "                           [sin(pi/4),cos(pi/4)]])\n",
    "xr=(rotation_matrix*(x.T)).T\n",
    "xr=np.array(xr)\n",
    "\n",
    "fig,ax=subplots()\n",
    "ax.set_aspect(1)\n",
    "_=ax.axis(xmin=-2,xmax=7,ymin=-4,ymax=4)\n",
    "\n",
    "_=ax.plot(ma.masked_array(xr[:,1],y==1),ma.masked_array(xr[:,0],y==1),'ow',mec='k',ms=15)\n",
    "_=ax.plot(ma.masked_array(xr[:,1],y==0),ma.masked_array(xr[:,0],y==0),'o',color='gray',ms=15)\n",
    "\n",
    "_=clf.fit(xr,y)\n",
    "\n",
    "for i,j in zip(clf.tree_.feature,clf.tree_.threshold):\n",
    "    if i==1:\n",
    "        _=ax.vlines(j,-1,6,lw=3.)\n",
    "    elif i==0:\n",
    "        _=ax.hlines(j,-1,6,lw=3.)\n"
   ]
  },
  {
   "cell_type": "markdown",
   "metadata": {},
   "source": [
    "<!-- dom:FIGURE: [fig-machine_learning/example_tree_005.png, width=500\n",
    "frac=0.75] Using a simple rotation on the training data in\n",
    "[Figure](#fig:example_tree_004), the decision tree can now easily fit the\n",
    "training data with a single partition. <div id=\"fig:example_tree_005\"></div> -->\n",
    "<!-- begin figure -->\n",
    "<div id=\"fig:example_tree_005\"></div>\n",
    "\n",
    "<p>Using a simple rotation on the training data in\n",
    "[Figure](#fig:example_tree_004), the decision tree can now easily fit the\n",
    "training data with a single partition.</p>\n",
    "<img src=\"fig-machine_learning/example_tree_005.png\" width=500>\n",
    "\n",
    "<!-- end figure -->"
   ]
  },
  {
   "cell_type": "code",
   "execution_count": 17,
   "metadata": {
    "attributes": {
     "classes": [],
     "id": "",
     "n": "17"
    }
   },
   "outputs": [
    {
     "name": "stderr",
     "output_type": "stream",
     "text": [
      "/usr/local/miniconda2/envs/py3/lib/python3.5/site-packages/sklearn/cross_validation.py:41: DeprecationWarning: This module was deprecated in version 0.18 in favor of the model_selection module into which all the refactored classes and functions are moved. Also note that the interface of the new CV iterators are different from that of this module. This module will be removed in 0.20.\n",
      "  \"This module will be removed in 0.20.\", DeprecationWarning)\n"
     ]
    }
   ],
   "source": [
    "from sklearn.ensemble import RandomForestClassifier\n",
    "from sklearn.cross_validation import train_test_split, cross_val_score\n",
    "X_train,X_test,y_train,y_test=train_test_split(x,y,random_state=1)\n",
    "clf = tree.DecisionTreeClassifier(max_depth=2)\n",
    "_=clf.fit(X_train,y_train)\n",
    "rfc = RandomForestClassifier(n_estimators=4,max_depth=2)\n",
    "_=rfc.fit(X_train,y_train.flat)"
   ]
  },
  {
   "cell_type": "code",
   "execution_count": 18,
   "metadata": {
    "attributes": {
     "classes": [],
     "id": "",
     "n": "18"
    }
   },
   "outputs": [
    {
     "data": {
      "text/plain": [
       "RandomForestClassifier(bootstrap=True, class_weight=None, criterion='gini',\n",
       "            max_depth=2, max_features='auto', max_leaf_nodes=None,\n",
       "            min_impurity_decrease=0.0, min_impurity_split=None,\n",
       "            min_samples_leaf=1, min_samples_split=2,\n",
       "            min_weight_fraction_leaf=0.0, n_estimators=4, n_jobs=1,\n",
       "            oob_score=False, random_state=None, verbose=0,\n",
       "            warm_start=False)"
      ]
     },
     "execution_count": 18,
     "metadata": {},
     "output_type": "execute_result"
    }
   ],
   "source": [
    "from sklearn.ensemble import RandomForestClassifier\n",
    "rfc = RandomForestClassifier(n_estimators=4,max_depth=2)\n",
    "rfc.fit(X_train,y_train.flat)"
   ]
  },
  {
   "cell_type": "code",
   "execution_count": 19,
   "metadata": {
    "attributes": {
     "classes": [],
     "id": "",
     "n": "19"
    },
    "collapsed": true
   },
   "outputs": [],
   "source": [
    "def draw_board(x,y,clf,ax=None):\n",
    "    if ax is None: fig,ax=subplots()\n",
    "    xm,ymn=x.min(0).T\n",
    "    ax.axis(xmin=xm-1,ymin=ymn-1)\n",
    "    xx,ymx=x.max(0).T\n",
    "    _=ax.axis(xmax=xx+1,ymax=ymx+1)\n",
    "    _=ax.set_aspect(1)\n",
    "    _=ax.invert_yaxis()\n",
    "    _=ax.plot(ma.masked_array(x[:,1],y==1),ma.masked_array(x[:,0],y==1),'ow',mec='k')\n",
    "    _=ax.plot(ma.masked_array(x[:,1],y==0),ma.masked_array(x[:,0],y==0),'o',color='gray')\n",
    "    for i,j in zip(clf.tree_.feature,clf.tree_.threshold):\n",
    "        if i==1:\n",
    "            _=ax.vlines(j,-1,6,lw=3.)\n",
    "        elif i==0:\n",
    "            _=ax.hlines(j,-1,6,lw=3.)\n",
    "    return ax"
   ]
  },
  {
   "cell_type": "code",
   "execution_count": 20,
   "metadata": {
    "attributes": {
     "classes": [],
     "id": "",
     "n": "20"
    }
   },
   "outputs": [
    {
     "data": {
      "image/png": "[encoded data removed]",
      "text/plain": [
       "<matplotlib.figure.Figure at 0x7f4d32a8d860>"
      ]
     },
     "metadata": {},
     "output_type": "display_data"
    }
   ],
   "source": [
    "fig,axs = subplots(2,2)\n",
    "# draw constituent decision trees\n",
    "for est,ax in zip(rfc.estimators_,axs.flat):\n",
    "    _=draw_board(X_train,y_train,est,ax=ax)\n"
   ]
  },
  {
   "cell_type": "markdown",
   "metadata": {},
   "source": [
    "Note that we have constrained the maximum depth `max_depth=2` to help\n",
    "with generalization. To keep things simple we have only set up a forest with\n",
    "four individual classifers [^seedNote].  [Figure](#fig:example_tree_006) shows\n",
    "the individual classifers in the forest that have been trained above. Even\n",
    "though all the constituent decision trees share the same training data, the\n",
    "random forest  algorithm randomly picks feature subsets (with replacement) upon\n",
    "which to train individual trees. This helps avoid the tendency of decision\n",
    "trees to become too deep and lopsided, which hurts both performance and\n",
    "generalization. At the prediction step, the individual outputs of each of the\n",
    "constituent decision trees are put to a majority vote for the final\n",
    "classification. To estimate generalization errors without using\n",
    "cross-validation, the training elements *not* used for a particular constituent\n",
    "tree can be used to test that tree and form a collaborative estimate of\n",
    "generalization errors.  This is called the *out-of-bag* estimate.\n",
    "\n",
    "[^seedNote]: We have also set the random seed to a fixed value\n",
    "to make the figures reproducible in the IPython Notebook corresponding to\n",
    "this section.\n",
    "\n",
    "<!-- dom:FIGURE: [fig-machine_learning/example_tree_006.png, width=500\n",
    "frac=0.85] The constituent decision trees of the random forest and how they\n",
    "partitioned the training set are shown in these four panels. The random forest\n",
    "classifier uses the individual outputs of each of the constituent trees to\n",
    "produce a collaborative  final estimate. <div id=\"fig:example_tree_006\"></div>\n",
    "-->\n",
    "<!-- begin figure -->\n",
    "<div id=\"fig:example_tree_006\"></div>\n",
    "\n",
    "<p>The constituent decision trees of the random forest and how they partitioned\n",
    "the training set are shown in these four panels. The random forest classifier\n",
    "uses the individual outputs of each of the constituent trees to produce a\n",
    "collaborative  final estimate.</p>\n",
    "<img src=\"fig-machine_learning/example_tree_006.png\" width=500>\n",
    "\n",
    "<!-- end figure -->\n",
    "\n",
    "\n",
    "The main advantage of random forest classifiers is that they require very\n",
    "little tuning and provide a way to trade-off bias and variance via averaging\n",
    "and randomization. Furthermore, they are fast and easy to train in parallel\n",
    "(see the `n_jobs` keyword argument) and fast to predict. On the downside, they\n",
    "are less interpretable than simple decision trees.  There are many other\n",
    "powerful tree methods in Scikit-learn like `ExtraTrees` and Gradient Boosted\n",
    "Regression Trees `GradientBoostingRegressor` which are discussed in the online\n",
    "documentation.\n",
    "\n",
    "<!-- TODO: [stochastic gradient trees and\n",
    "boosting](http://nbviewer.ipython.org/github/pprett/pydata-gbrt-\n",
    "tutorial/blob/master/gbrt-tutorial.ipynb) -->"
   ]
  }
 ],
 "metadata": {
  "kernelspec": {
   "display_name": "Python 3",
   "language": "python",
   "name": "python3"
  },
  "language_info": {
   "codemirror_mode": {
    "name": "ipython",
    "version": 3
   },
   "file_extension": ".py",
   "mimetype": "text/x-python",
   "name": "python",
   "nbconvert_exporter": "python",
   "pygments_lexer": "ipython3",
   "version": "3.5.4"
  }
 },
 "nbformat": 4,
 "nbformat_minor": 2
}
